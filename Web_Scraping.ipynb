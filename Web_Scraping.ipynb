{
 "cells": [
  {
   "cell_type": "code",
   "execution_count": 1,
   "metadata": {},
   "outputs": [],
   "source": [
    "#Import required Libraries\n",
    "import requests\n",
    "from bs4 import BeautifulSoup\n",
    "import html.parser\n",
    "import pandas as pd"
   ]
  },
  {
   "cell_type": "code",
   "execution_count": 2,
   "metadata": {},
   "outputs": [],
   "source": [
    "#Get the HTML of the website.\n",
    "url = \"https://step-on-technologies.business.site/\"\n",
    "req = requests.get(url)\n",
    "htmlContent = req.content"
   ]
  },
  {
   "cell_type": "code",
   "execution_count": 3,
   "metadata": {},
   "outputs": [],
   "source": [
    "#Parse the HTML.\n",
    "soup = BeautifulSoup(htmlContent,'html.parser')"
   ]
  },
  {
   "cell_type": "code",
   "execution_count": 4,
   "metadata": {
    "scrolled": true
   },
   "outputs": [],
   "source": [
    "#Get all the urls from the website.\n",
    "links = soup.find_all('a', href = True)\n",
    "all_links = set()\n",
    "for link in links:\n",
    "    if(link.get('href').strip() != '#'):\n",
    "        linkUrl = url + link.get('href').strip()\n",
    "        all_links.add(linkUrl)\n",
    "#print(all_links)"
   ]
  },
  {
   "cell_type": "code",
   "execution_count": 5,
   "metadata": {},
   "outputs": [
    {
     "data": {
      "text/html": [
       "<div>\n",
       "<style scoped>\n",
       "    .dataframe tbody tr th:only-of-type {\n",
       "        vertical-align: middle;\n",
       "    }\n",
       "\n",
       "    .dataframe tbody tr th {\n",
       "        vertical-align: top;\n",
       "    }\n",
       "\n",
       "    .dataframe thead th {\n",
       "        text-align: right;\n",
       "    }\n",
       "</style>\n",
       "<table border=\"1\" class=\"dataframe\">\n",
       "  <thead>\n",
       "    <tr style=\"text-align: right;\">\n",
       "      <th></th>\n",
       "      <th>Url</th>\n",
       "    </tr>\n",
       "  </thead>\n",
       "  <tbody>\n",
       "    <tr>\n",
       "      <th>0</th>\n",
       "      <td>https://step-on-technologies.business.site/tel...</td>\n",
       "    </tr>\n",
       "    <tr>\n",
       "      <th>1</th>\n",
       "      <td>https://step-on-technologies.business.site///w...</td>\n",
       "    </tr>\n",
       "    <tr>\n",
       "      <th>2</th>\n",
       "      <td>https://step-on-technologies.business.site///w...</td>\n",
       "    </tr>\n",
       "    <tr>\n",
       "      <th>3</th>\n",
       "      <td>https://step-on-technologies.business.site///w...</td>\n",
       "    </tr>\n",
       "    <tr>\n",
       "      <th>4</th>\n",
       "      <td>https://step-on-technologies.business.site/htt...</td>\n",
       "    </tr>\n",
       "    <tr>\n",
       "      <th>5</th>\n",
       "      <td>https://step-on-technologies.business.site///w...</td>\n",
       "    </tr>\n",
       "    <tr>\n",
       "      <th>6</th>\n",
       "      <td>https://step-on-technologies.business.site/htt...</td>\n",
       "    </tr>\n",
       "    <tr>\n",
       "      <th>7</th>\n",
       "      <td>https://step-on-technologies.business.site/htt...</td>\n",
       "    </tr>\n",
       "    <tr>\n",
       "      <th>8</th>\n",
       "      <td>https://step-on-technologies.business.site///w...</td>\n",
       "    </tr>\n",
       "    <tr>\n",
       "      <th>9</th>\n",
       "      <td>https://step-on-technologies.business.site///w...</td>\n",
       "    </tr>\n",
       "    <tr>\n",
       "      <th>10</th>\n",
       "      <td>https://step-on-technologies.business.site/htt...</td>\n",
       "    </tr>\n",
       "    <tr>\n",
       "      <th>11</th>\n",
       "      <td>https://step-on-technologies.business.site/htt...</td>\n",
       "    </tr>\n",
       "    <tr>\n",
       "      <th>12</th>\n",
       "      <td>https://step-on-technologies.business.site///w...</td>\n",
       "    </tr>\n",
       "    <tr>\n",
       "      <th>13</th>\n",
       "      <td>https://step-on-technologies.business.site//</td>\n",
       "    </tr>\n",
       "    <tr>\n",
       "      <th>14</th>\n",
       "      <td>https://step-on-technologies.business.site///w...</td>\n",
       "    </tr>\n",
       "    <tr>\n",
       "      <th>15</th>\n",
       "      <td>https://step-on-technologies.business.site/htt...</td>\n",
       "    </tr>\n",
       "    <tr>\n",
       "      <th>16</th>\n",
       "      <td>https://step-on-technologies.business.site///w...</td>\n",
       "    </tr>\n",
       "    <tr>\n",
       "      <th>17</th>\n",
       "      <td>https://step-on-technologies.business.site//about</td>\n",
       "    </tr>\n",
       "    <tr>\n",
       "      <th>18</th>\n",
       "      <td>https://step-on-technologies.business.site/htt...</td>\n",
       "    </tr>\n",
       "  </tbody>\n",
       "</table>\n",
       "</div>"
      ],
      "text/plain": [
       "                                                  Url\n",
       "0   https://step-on-technologies.business.site/tel...\n",
       "1   https://step-on-technologies.business.site///w...\n",
       "2   https://step-on-technologies.business.site///w...\n",
       "3   https://step-on-technologies.business.site///w...\n",
       "4   https://step-on-technologies.business.site/htt...\n",
       "5   https://step-on-technologies.business.site///w...\n",
       "6   https://step-on-technologies.business.site/htt...\n",
       "7   https://step-on-technologies.business.site/htt...\n",
       "8   https://step-on-technologies.business.site///w...\n",
       "9   https://step-on-technologies.business.site///w...\n",
       "10  https://step-on-technologies.business.site/htt...\n",
       "11  https://step-on-technologies.business.site/htt...\n",
       "12  https://step-on-technologies.business.site///w...\n",
       "13       https://step-on-technologies.business.site//\n",
       "14  https://step-on-technologies.business.site///w...\n",
       "15  https://step-on-technologies.business.site/htt...\n",
       "16  https://step-on-technologies.business.site///w...\n",
       "17  https://step-on-technologies.business.site//about\n",
       "18  https://step-on-technologies.business.site/htt..."
      ]
     },
     "execution_count": 5,
     "metadata": {},
     "output_type": "execute_result"
    }
   ],
   "source": [
    "#Storing all_links to a Dataframe.\n",
    "df = pd.DataFrame(all_links)\n",
    "df = df.rename(columns={0: 'Url'})\n",
    "df"
   ]
  },
  {
   "cell_type": "code",
   "execution_count": 6,
   "metadata": {},
   "outputs": [
    {
     "name": "stdout",
     "output_type": "stream",
     "text": [
      "Saved to file\n"
     ]
    }
   ],
   "source": [
    "#Save to Excel file.\n",
    "df.to_excel(\"urlLists.xlsx\",index = False)\n",
    "print(\"Saved to file\")"
   ]
  },
  {
   "cell_type": "code",
   "execution_count": null,
   "metadata": {},
   "outputs": [],
   "source": []
  }
 ],
 "metadata": {
  "kernelspec": {
   "display_name": "Python 3",
   "language": "python",
   "name": "python3"
  },
  "language_info": {
   "codemirror_mode": {
    "name": "ipython",
    "version": 3
   },
   "file_extension": ".py",
   "mimetype": "text/x-python",
   "name": "python",
   "nbconvert_exporter": "python",
   "pygments_lexer": "ipython3",
   "version": "3.8.5"
  }
 },
 "nbformat": 4,
 "nbformat_minor": 4
}
