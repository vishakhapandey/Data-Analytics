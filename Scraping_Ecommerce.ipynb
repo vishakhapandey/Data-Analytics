{
 "cells": [
  {
   "cell_type": "code",
   "execution_count": 1,
   "metadata": {},
   "outputs": [],
   "source": [
    "#Import required Libraries\n",
    "import requests\n",
    "from bs4 import BeautifulSoup\n",
    "import html.parser\n",
    "import pandas as pd"
   ]
  },
  {
   "cell_type": "code",
   "execution_count": 2,
   "metadata": {},
   "outputs": [
    {
     "name": "stdout",
     "output_type": "stream",
     "text": [
      "['https://www.amazon.in/Redmi-9A-2GB-32GB-Storage/dp/B08696XB4B?dchild=1', 'https://www.amazon.in/Redmi-Sky-Blue-64GB-Storage/dp/B08697N43N?dchild=1', 'https://www.amazon.in/realme-Storage-Additional-Exchange-Offers/dp/B096RWS54N?dchild=1', 'https://www.amazon.in/Samsung-Galaxy-Storage-Additional-Exchange/dp/B086KDZGVK?dchild=1', 'https://www.amazon.in/Tecno-Spark-Storage-Battery-Camera/dp/B096LS7N6Z?dchild=1', 'https://www.amazon.in/Oppo-Mystery-Storage-Additional-Exchange/dp/B08444S68L?dchild=1', 'https://www.amazon.in/Samsung-Galaxy-M12-Storage-Processor/dp/B08XGDN3TZ?dchild=1', 'https://www.amazon.in/Redmi-9A-3GB-32GB-Storage/dp/B08697N43M?dchild=1', 'https://www.amazon.in/Samsung-Galaxy-M12-Storage-Replacement/dp/B08XJG8MQM?dchild=1', 'https://www.amazon.in/Oppo-Fantasy-Storage-Additional-Exchange/dp/B08444SXZ6?dchild=1', 'https://www.amazon.in/Redmi-Carbon-Black-64GB-Storage/dp/B086985T6R?dchild=1', 'https://www.amazon.in/OnePlus-Nord-Sierra-128GB-Storage/dp/B097RDVDL2?dchild=1', 'https://www.amazon.in/realme-Storage-Additional-Exchange-Offers/dp/B096RT57F9?dchild=1', 'https://www.amazon.in/Redmi-Sporty-Orange-64GB-Storage/dp/B08696W3B3?dchild=1', 'https://www.amazon.in/Redmi-9A-Midnight-2GB-32GB/dp/B08697N43G?dchild=1', 'https://www.amazon.in/Redmi-9A-2GB-32GB-Storage/dp/B086978F2L?dchild=1']\n"
     ]
    }
   ],
   "source": [
    "#Get the HTML of the website.\n",
    "root_url = \"https://www.amazon.in\"\n",
    "headers = {'User-Agent':'Mozilla/5.0 (Windows NT 10.0; Win64; x64) AppleWebKit/537.36 (KHTML, like Gecko) Chrome/74.0.3729.169 Safari/537.36'\n",
    "          \n",
    " }\n",
    "req = requests.get(\"https://www.amazon.in/s?k=mobile\")\n",
    "htmlContent = req.content\n",
    "\n",
    "#Parse the HTML.\n",
    "soup = BeautifulSoup(htmlContent,'html.parser')\n",
    "\n",
    "#Extracting all the products link.\n",
    "product_list = soup.find_all('a', class_='a-link-normal a-text-normal')\n",
    "\n",
    "Product_detail = []\n",
    "\n",
    "for links in product_list:\n",
    "    linkUrl = root_url + links.get('href').strip()\n",
    "    Product_detail.append(linkUrl)\n",
    "print(Product_detail)"
   ]
  },
  {
   "cell_type": "code",
   "execution_count": 6,
   "metadata": {},
   "outputs": [
    {
     "name": "stdout",
     "output_type": "stream",
     "text": [
      "[{'Product_Title': 'Redmi 9A (Nature Green, 2GB RAM, 32GB Storage) | 2GHz Octa-core Helio G25 Processor | 5000 mAh Battery', 'Price': '₹6,999.00', 'Reviews': \"Both 13 MP and 5MP Camera quality is good. Have lot of pre installed apps. But can be uninstalled if not required. Overall good performance . I am using Asus zenfone max and according to me far better than Asus except Camera quality. It comes in 5000 mah battery and one can't get a better option at this price range. Go for it. It's really goodAfter one week useEdit:- please don't buy this phone. It hangs a lot and sometimes there is problem in touch screen.\"}, {'Product_Title': 'Redmi 9 (Sky Blue, 4GB RAM, 64GB Storage) | 2.3GHz Mediatek Helio G35 Octa core Processor', 'Price': '₹8,999.00', 'Reviews': 'Don’t buy this product .Image quality is below average comparing with the specification. Useless camera.And there is NO RETURN POLICY and replacing with same mobile is big headache .DON’T buy this mobile'}, {'Product_Title': 'realme C11 (2021) (Cool Blue, 2GB RAM, 32GB Storage) with No Cost EMI/Additional Exchange Offers', 'Price': '₹6,999.00', 'Reviews': 'Realme c11 2021 is the best budget smartphone. Battery and storage is excellent. Camera is also very good. It has a slim and elegant design.'}, {'Product_Title': 'Samsung Galaxy M11 (Black, 4GB RAM, 64GB Storage) with No Cost EMI/Additional Exchange Offers', 'Price': '₹9,999.00', 'Reviews': 'In display lines started coming after using 1 day . I want to return this . Amazon Customer service is worst. Though damage is visible they are not accepting for return.'}, {'Product_Title': 'Tecno Spark 7T(Jewel Blue, 4GB RAM, 64GB Storage) 6000 mAh Battery| 48 MP AI Dual Rear Camera', 'Price': '₹9,299.00', 'Reviews': 'Charger and speaker 🤷'}, {'Product_Title': 'Oppo A31 (Mystery Black, 6GB RAM, 128GB Storage) with No Cost EMI/Additional Exchange Offers', 'Price': '₹12,490.00', 'Reviews': 'I am not happy buy the mobile in amazon.Whats in the box:- Handset, Earphone, USB Cable, Sim Tray Ejecter, Pre-applied Screen Protector and Protective Case, Booklet with Warranty Card and Quick Guide'}, {'Product_Title': 'Samsung Galaxy M12 (Blue,4GB RAM, 64GB Storage) 6000 mAh with 8nm Processor | True 48 MP Quad Camera | 90Hz Refresh Rate', 'Price': '₹10,999.00', 'Reviews': 'Very disappointed with the overall performance from Samsung'}, {'Product_Title': 'Redmi 9A (Nature Green, 3GB Ram, 32GB Storage) | 2GHz Octa-core Helio G25 Processor', 'Price': '₹7,799.00', 'Reviews': \"Both 13 MP and 5MP Camera quality is good. Have lot of pre installed apps. But can be uninstalled if not required. Overall good performance . I am using Asus zenfone max and according to me far better than Asus except Camera quality. It comes in 5000 mah battery and one can't get a better option at this price range. Go for it. It's really goodAfter one week useEdit:- please don't buy this phone. It hangs a lot and sometimes there is problem in touch screen.\"}, {'Product_Title': 'Samsung Galaxy M12 (Blue,4GB RAM, 64GB Storage) 6000 mAh with 8nm Processor | True 48 MP Quad Camera | 90Hz Refresh Rate', 'Price': '₹10,999.00', 'Reviews': 'Very disappointed with the overall performance from Samsung'}, {'Product_Title': 'Oppo A31 (Fantasy White, 6GB RAM, 128GB Storage) with No Cost EMI/Additional Exchange Offers', 'Price': '₹12,490.00', 'Reviews': 'I am not happy buy the mobile in amazon.Whats in the box:- Handset, Earphone, USB Cable, Sim Tray Ejecter, Pre-applied Screen Protector and Protective Case, Booklet with Warranty Card and Quick Guide'}, {'Product_Title': 'Redmi 9 (Carbon Black, 4GB RAM, 64GB Storage) | 2.3GHz Mediatek Helio G35 Octa core Processor', 'Price': '₹8,999.00', 'Reviews': 'Don’t buy this product .Image quality is below average comparing with the specification. Useless camera.And there is NO RETURN POLICY and replacing with same mobile is big headache .DON’T buy this mobile'}, {'Product_Title': 'OnePlus Nord 2 5G (Gray Sierra, 8GB RAM, 128GB Storage)', 'Price': '₹8,999.00', 'Reviews': \"First of all I would like to tell you that i won't be giving a very technical review like those on ytube videos. I am gonna give a very honest review as a general phone user just like all of you only. This is my first phone for a price above 20k so i thought and researched a lot before buying. I was confused between buying iphone 12 and Nord 2 I know the price difference is more but still I won't go for above 50k to buy any phone other than Iphone. But honestly man i think at 30k this 1+ nord 2 is really astonishing. You don't need to go for one plus 9 or other higher range phones of one plus or else if you have some extra bucks in pocket which u just wanna spend.So I will be telling u the pros and cons of this phone very honestly after 3-4 days of very vigorous usage.Pros:1. Very ultra premium features at this price range of 30k and pretty much matching features with higer range one plus models.2. The display is just great.3. Screen refresh rate you can actually feel to be fast @90Hz.4. No heating issue in phone or the charger till now.5. They are giving a back cover with the phone, which is pretty good actually with bumps in side and camera portion which actually saved my phone from a direct fall on a rough floor that too on screen side..and no scratches at all!!..so the cover's tested guys😂and it actually feels elegant. So you need not do the hectic work of searching for back covers after buying a phone and infact the scratch guard which they have put on the screen is quite handy.. I don't think u need to put a temper guard if u handle ur phone well, anyways thats your choice..for me i m gonna go with the scratch guard for some weeks or may be month n lets see how it goes..for now about a week it feels to be performing just outstanding.So i wont be telling u more features of this phone as u can read'em anywhere in its specifications.I will tell you some 'X-Factors of Nord 2. And why you should decide to buy this phone1. The charging time.. I was like whtt!! When the phone shootes up from 0% to 85% in just about 30mins and upto 100% in around 40-45 mins...So the warp charging is just out of world @65W charger. Never ever saw this in any phone.2. The stereo speakers. When i played the first song i was just shocked what i just heard. Yes it actually feels to be giving a 3D feel of sound. Actually sound comes out of speakers on bottom right as well as speakers on top of screen which are meant to be for calling purpose only in other phones .So this phone just rocked here. 3. The camera just performs outstanding in low light, dark or even very dark sorroundings.To check it I went on to my terrace and clicked a picture in dark which you can see yourself..i have put it here. 4. The phone buid really feels premium.Some of the cons or I won't say cons..bcz I don't really feel them as cons.as u can ignore them over the astonishing features of this phone..but since we can't go away without mentioning some cons so here are some.1. They could have provided a little higher battery capacity like those in Samsung phones coz of Such a high resolution display and refresh rate..but it could have increased the weight of phone..so its pretty much understandable.Battery back up is some what 12-14 hrs which I got on continuous usage..like songs.. attending meetings on teams.. Netflix etc. But since it gives so..so..so.. fast charging u just wont feel it.2. No earphone jack..If that is a con to u..not for me actually😂 Nothing else serious issue this phone has got me into till now .So that it guys..If i find anything else after prolonged Usage I will honestly put it here.So I will say if you wanna buy a phone above 50k just dont..buy this if you budget is ~25k stretch it a lill and buy this Nord 2.\"}, {'Product_Title': 'realme C11 (2021) (Cool Grey, 2GB RAM, 32GB Storage) with No Cost EMI/Additional Exchange Offers', 'Price': '₹6,999.00', 'Reviews': 'Realme c11 2021 is the best budget smartphone. Battery and storage is excellent. Camera is also very good. It has a slim and elegant design.'}, {'Product_Title': 'Redmi 9 (Sporty Orange, 4GB RAM, 64GB Storage) | 2.3GHz Mediatek Helio G35 Octa core Processor', 'Price': '₹8,999.00', 'Reviews': 'Don’t buy this product .Image quality is below average comparing with the specification. Useless camera.And there is NO RETURN POLICY and replacing with same mobile is big headache .DON’T buy this mobile'}, {'Product_Title': 'Redmi 9A (Midnight Black 2GB RAM 32GB Storage) | 2GHz Octa-core Helio G25 Processor | 5000 mAh Battery', 'Price': '₹6,999.00', 'Reviews': \"Both 13 MP and 5MP Camera quality is good. Have lot of pre installed apps. But can be uninstalled if not required. Overall good performance . I am using Asus zenfone max and according to me far better than Asus except Camera quality. It comes in 5000 mah battery and one can't get a better option at this price range. Go for it. It's really goodAfter one week useEdit:- please don't buy this phone. It hangs a lot and sometimes there is problem in touch screen.\"}, {'Product_Title': 'Redmi 9A (Sea Blue 2GB RAM 32GB Storage) | 2GHz Octa-core Helio G25 Processor | 5000 mAh Battery', 'Price': '₹6,999.00', 'Reviews': \"Both 13 MP and 5MP Camera quality is good. Have lot of pre installed apps. But can be uninstalled if not required. Overall good performance . I am using Asus zenfone max and according to me far better than Asus except Camera quality. It comes in 5000 mah battery and one can't get a better option at this price range. Go for it. It's really goodAfter one week useEdit:- please don't buy this phone. It hangs a lot and sometimes there is problem in touch screen.\"}]\n"
     ]
    }
   ],
   "source": [
    "#Extracting all the Products details.\n",
    "product_details = []\n",
    "for link in Product_detail:\n",
    "    r = requests.get(link,headers = headers)\n",
    "    soup = BeautifulSoup(r.content,'html.parser')\n",
    "    \n",
    "    product_title= soup.find('span', id = \"productTitle\").text.strip()\n",
    "    \n",
    "    price = soup.find('span', attrs={\"id\":\"priceblock_ourprice\"})\n",
    "    if price is not None:\n",
    "        Price = price.text.strip()\n",
    "    \n",
    "    try:\n",
    "        reviews = soup.find('div', class_= \"a-expander-content reviewText review-text-content a-expander-partial-collapse-content\").text.strip()\n",
    "        \n",
    "    except:\n",
    "        reviews = 'No review'\n",
    "        \n",
    "        \n",
    "    Product_details = {\n",
    "        'Product_Title': product_title,\n",
    "        'Price': Price,\n",
    "        'Reviews': reviews\n",
    "    }\n",
    "    product_details.append(Product_details)  \n",
    "print(product_details)"
   ]
  },
  {
   "cell_type": "code",
   "execution_count": 7,
   "metadata": {},
   "outputs": [
    {
     "name": "stdout",
     "output_type": "stream",
     "text": [
      "                                        Product_Title      Price  \\\n",
      "11  OnePlus Nord 2 5G (Gray Sierra, 8GB RAM, 128GB...  ₹8,999.00   \n",
      "12  realme C11 (2021) (Cool Grey, 2GB RAM, 32GB St...  ₹6,999.00   \n",
      "13  Redmi 9 (Sporty Orange, 4GB RAM, 64GB Storage)...  ₹8,999.00   \n",
      "14  Redmi 9A (Midnight Black 2GB RAM 32GB Storage)...  ₹6,999.00   \n",
      "15  Redmi 9A (Sea Blue 2GB RAM 32GB Storage) | 2GH...  ₹6,999.00   \n",
      "\n",
      "                                              Reviews  \n",
      "11  First of all I would like to tell you that i w...  \n",
      "12  Realme c11 2021 is the best budget smartphone....  \n",
      "13  Don’t buy this product .Image quality is below...  \n",
      "14  Both 13 MP and 5MP Camera quality is good. Hav...  \n",
      "15  Both 13 MP and 5MP Camera quality is good. Hav...  \n"
     ]
    }
   ],
   "source": [
    "#Storing product_details to a Dataframe.\n",
    "df = pd.DataFrame(product_details)\n",
    "print(df.tail())"
   ]
  },
  {
   "cell_type": "code",
   "execution_count": 17,
   "metadata": {},
   "outputs": [
    {
     "name": "stdout",
     "output_type": "stream",
     "text": [
      "Saved to file\n"
     ]
    }
   ],
   "source": [
    "#Saving the extracted details to excel.\n",
    "df.to_excel(\"Product_Details.xlsx\",index = False)\n",
    "print(\"Saved to file\")"
   ]
  },
  {
   "cell_type": "code",
   "execution_count": null,
   "metadata": {},
   "outputs": [],
   "source": []
  }
 ],
 "metadata": {
  "kernelspec": {
   "display_name": "Python 3",
   "language": "python",
   "name": "python3"
  },
  "language_info": {
   "codemirror_mode": {
    "name": "ipython",
    "version": 3
   },
   "file_extension": ".py",
   "mimetype": "text/x-python",
   "name": "python",
   "nbconvert_exporter": "python",
   "pygments_lexer": "ipython3",
   "version": "3.8.5"
  }
 },
 "nbformat": 4,
 "nbformat_minor": 4
}
