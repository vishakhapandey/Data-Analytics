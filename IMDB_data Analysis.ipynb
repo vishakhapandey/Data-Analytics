{
 "cells": [
  {
   "cell_type": "code",
   "execution_count": null,
   "metadata": {},
   "outputs": [],
   "source": [
    "#set working directory\n",
    "import os\n",
    "os.chdir(\"C:\\\\Users\\\\PowerUser\\\\Desktop\\\\New folder\\\\Class_Practice\\\\data01s2l1-20180201T150153Z-001\\\\data01s2l1\")"
   ]
  },
  {
   "cell_type": "code",
   "execution_count": null,
   "metadata": {},
   "outputs": [],
   "source": [
    "#Check current working directory\n",
    "os.getcwd()"
   ]
  },
  {
   "cell_type": "code",
   "execution_count": null,
   "metadata": {},
   "outputs": [],
   "source": [
    "#Import Libraries\n",
    "import pandas as pd\n",
    "import numpy as np\n",
    "import matplotlib as mlt"
   ]
  },
  {
   "cell_type": "code",
   "execution_count": null,
   "metadata": {},
   "outputs": [],
   "source": [
    "#a.Load CSV in R by skipping second row\n",
    "import pandas as pd\n",
    "df_csv = pd.read_csv(\"IMDB_data.csv\",encoding='cp1252',skiprows= [2])\n",
    "df_csv"
   ]
  },
  {
   "cell_type": "code",
   "execution_count": null,
   "metadata": {},
   "outputs": [],
   "source": [
    "#b.Extract Unique Genre and its Counts with Index Key.\n",
    "genre_count=df_csv['Genre'].value_counts().rename_axis('Uniquegenres').reset_index(name='Counts')\n",
    "genre_index=pd.DataFrame({'index key':range(len(genre_count))})                                      #Create Index Key\n",
    "genre_count_with_index=pd.concat([genre_index.reset_index(drop=True),genre_count],axis=1)\n",
    "genre_count_with_index"
   ]
  },
  {
   "cell_type": "code",
   "execution_count": null,
   "metadata": {},
   "outputs": [],
   "source": [
    "#c.Convert the required data types\n",
    "df_csv.imdbVotes=pd.to_numeric(df_csv.imdbVotes, errors = 'coerce').replace(\",\",\"\").fillna(0).astype(int)\n",
    "df_csv.Genre=df_csv.Genre.astype('category')\n",
    "df_csv.Language=df_csv.Language.astype('category')\n",
    "df_csv.Plot=df_csv.Plot.str.split(',').astype(str)\n",
    "df_csv.imdbRating=df_csv.imdbRating.replace('-',0).astype(float)\n",
    "df_csv.imdbID=df_csv.imdbID.astype(str)\n",
    "df_csv.Year = df_csv.Year.replace(\"-\",\"\").astype('category')"
   ]
  },
  {
   "cell_type": "code",
   "execution_count": null,
   "metadata": {},
   "outputs": [],
   "source": [
    "# Check Data types of Variables\n",
    "df_csv.dtypes"
   ]
  },
  {
   "cell_type": "code",
   "execution_count": null,
   "metadata": {},
   "outputs": [],
   "source": [
    "#d.Sort the genre by its name\n",
    "df_csv=df_csv.sort_values('Genre',ascending=True)\n",
    "df_csv.head()"
   ]
  },
  {
   "cell_type": "code",
   "execution_count": null,
   "metadata": {},
   "outputs": [],
   "source": [
    "#e.Create new variable whose values should be square of difference between imdbrating and imdbvotes\n",
    "Diff= (df_csv.imdbVotes - df_csv.imdbRating)\n",
    "df_csv['squared_difference_btwn_imdbrating_imdbvotes']=np.square(Diff)\n",
    "df_csv['squared_difference_btwn_imdbrating_imdbvotes']\n",
    "df_csv"
   ]
  }
 ],
 "metadata": {
  "kernelspec": {
   "display_name": "Python 3",
   "language": "python",
   "name": "python3"
  },
  "language_info": {
   "codemirror_mode": {
    "name": "ipython",
    "version": 3
   },
   "file_extension": ".py",
   "mimetype": "text/x-python",
   "name": "python",
   "nbconvert_exporter": "python",
   "pygments_lexer": "ipython3",
   "version": "3.8.5"
  }
 },
 "nbformat": 4,
 "nbformat_minor": 4
}
